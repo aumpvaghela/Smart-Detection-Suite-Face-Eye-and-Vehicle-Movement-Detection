{
 "cells": [
  {
   "cell_type": "code",
   "execution_count": null,
   "id": "3ade6099",
   "metadata": {},
   "outputs": [],
   "source": [
    "import cv2\n",
    "import numpy as np\n",
    "\n",
    "r_eye = cv2.CascadeClassifier('D:/haarcascade/haarcascade_righteye_2splits.xml')\n",
    "cap = cv2.VideoCapture(0)\n",
    "\n",
    "while True:\n",
    "    ret, frame = cap.read()\n",
    "    if not ret:\n",
    "        break\n",
    "    \n",
    "    frame_height, frame_width = frame.shape[:2]\n",
    "    frame_flipped = cv2.flip(frame, 1)\n",
    "    gray = cv2.cvtColor(frame, cv2.COLOR_BGR2GRAY)\n",
    "    right_half_gray = gray[:, frame_width // 2:]\n",
    "    right_eye = r_eye.detectMultiScale(right_half_gray, 1.1, 5)\n",
    "    \n",
    "    for (x, y, w, h) in right_eye:\n",
    "        x += frame_width // 2\n",
    "        x_flipped = frame_width - x - w\n",
    "        cv2.rectangle(frame_flipped, (x_flipped, y), (x_flipped + w, y + h), (0, 255, 255), 2)\n",
    "    \n",
    "    cv2.imshow(\"Right Eye Detection\", frame_flipped)\n",
    "    \n",
    "    if cv2.waitKey(1) & 0xFF == ord('q'):\n",
    "        break\n",
    "\n",
    "cap.release()\n",
    "cv2.destroyAllWindows()\n"
   ]
  }
 ],
 "metadata": {
  "kernelspec": {
   "display_name": "Python 3 (ipykernel)",
   "language": "python",
   "name": "python3"
  },
  "language_info": {
   "codemirror_mode": {
    "name": "ipython",
    "version": 3
   },
   "file_extension": ".py",
   "mimetype": "text/x-python",
   "name": "python",
   "nbconvert_exporter": "python",
   "pygments_lexer": "ipython3",
   "version": "3.9.13"
  }
 },
 "nbformat": 4,
 "nbformat_minor": 5
}
