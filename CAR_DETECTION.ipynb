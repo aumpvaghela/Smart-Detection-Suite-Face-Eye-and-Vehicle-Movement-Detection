{
 "cells": [
  {
   "cell_type": "code",
   "execution_count": 1,
   "id": "b41e7f1a",
   "metadata": {},
   "outputs": [],
   "source": [
    "#CAR DETECTION FROM A VIDEO\n",
    "\n",
    "import numpy as np\n",
    "import cv2\n",
    "import time\n",
    "\n",
    "\n",
    "car=cv2.CascadeClassifier('D:/haarcascade/haarcascade_car.xml')\n",
    "\n",
    "cam=cv2.VideoCapture(\"D:/haarcascade/cars.mp4\")\n",
    "while cam.isOpened():\n",
    "    time.sleep(.10)\n",
    "    ret, frame = cam.read()\n",
    "    gray = cv2.cvtColor(frame, cv2.COLOR_BGR2GRAY)\n",
    "    cars=car.detectMultiScale(gray,1.4,2)\n",
    "    \n",
    "    for(x,y,w,h) in cars:\n",
    "        cv2.rectangle(frame,(x,y),(x+w,y+h),(0,255,255),2)\n",
    "        cv2.imshow('Cars',frame)\n",
    "   \n",
    "  \n",
    "    if cv2.waitKey(1) &  0xFF == ord('q'): \n",
    "        break\n",
    "\n",
    "cam.release()\n",
    "cv2.destroyAllWindows()\n"
   ]
  },
  {
   "cell_type": "code",
   "execution_count": null,
   "id": "fcd0c7e5",
   "metadata": {},
   "outputs": [],
   "source": []
  }
 ],
 "metadata": {
  "kernelspec": {
   "display_name": "Python 3 (ipykernel)",
   "language": "python",
   "name": "python3"
  },
  "language_info": {
   "codemirror_mode": {
    "name": "ipython",
    "version": 3
   },
   "file_extension": ".py",
   "mimetype": "text/x-python",
   "name": "python",
   "nbconvert_exporter": "python",
   "pygments_lexer": "ipython3",
   "version": "3.9.13"
  }
 },
 "nbformat": 4,
 "nbformat_minor": 5
}
